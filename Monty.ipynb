{
 "cells": [
  {
   "cell_type": "markdown",
   "metadata": {},
   "source": [
    "Making Choices with Monty (Hall, that is)\n",
    "=======================================================\n",
    "\n",
    "Adapted from: cs109.org"
   ]
  },
  {
   "cell_type": "markdown",
   "metadata": {},
   "source": [
    "The Monty Hall Problem\n",
    "-------------------------\n",
    "\n",
    "Here's a fun and perhaps surprising probability riddle, and a good way to get some practice writing Python functions and using the other Python programming concepts we learned in the previous lessons.\n",
    "\n",
    "In a gameshow, contestants try to guess which of 3 closed doors contain a cash prize (goats are behind the other two doors). Of course, the odds of choosing the correct door are 1 in 3. As a twist, the host of the show opens a door after a contestant makes his or her choice. This door is always one of the two the contestant did not pick, and is also always one of the goat doors (note that it is always possible to do this, since there are two goat doors). At this point, the contestant has the option of keeping his or her original choice, or swtiching to the other unopened door. The question is: is there any benefit to switching doors? The answer surprises many people who haven't heard the question before.\n",
    "\n"
   ]
  },
  {
   "cell_type": "markdown",
   "metadata": {},
   "source": [
    "## The big picture\n",
    "Let's start by listing some of the main components of simulating somebody playing the 3-door game. We'll implement each of the main components as a separate function and then have a main driver program that simulates the entire game many times by calling our functions. Our goal is to simulate the strategy of always switching to the strategy of always not switching by simulating each 10000 times and computing the winning percentage for each strategy.\n",
    "\n",
    "* Simulate randomly putting the prize behind one of the doors\n",
    "* ...\n",
    "* ...\n",
    "* ...\n",
    "* ...\n",
    "* Main program that calls these functions"
   ]
  },
  {
   "cell_type": "markdown",
   "metadata": {
    "cell_tags": [
     "objectives"
    ]
   },
   "source": [
    "#### Objectives\n",
    "\n",
    "*   Generate random sequences of integers\n",
    "*   Design functions to simulate the various parts of the Monty Hall 3-Door problem\n",
    "*   Use Python help from the notebook\n",
    "*   Write a master simulation program that uses the component functions we write\n",
    "*   Report the results of a simulation run"
   ]
  },
  {
   "cell_type": "markdown",
   "metadata": {},
   "source": [
    "### Simulating the Prize Door\n",
    "\n",
    "Let's start by creating a simple simulation of randomly putting the car behind one of the three doors.  To do that, we need to be ably to generate a random integer representing door 1, 2, or 3. Since Python uses \"0-based\" lists and arrays, we are going to number the doors 0, 1 and 2 to make our life easier. Let's play with numpy's random number generation features to figure out how to do this. Then, we'll spec out and write the actual function to simulate a series of doors containing the car."
   ]
  },
  {
   "cell_type": "code",
   "execution_count": 1,
   "metadata": {
    "collapsed": false
   },
   "outputs": [],
   "source": [
    "import numpy as np"
   ]
  },
  {
   "cell_type": "code",
   "execution_count": 2,
   "metadata": {
    "collapsed": false
   },
   "outputs": [],
   "source": [
    "# How to generate 10 random numbers between 0 and 2?\n",
    "#np.random.randint?"
   ]
  },
  {
   "cell_type": "code",
   "execution_count": 3,
   "metadata": {
    "collapsed": false
   },
   "outputs": [
    {
     "name": "stdout",
     "output_type": "stream",
     "text": [
      "[2 2 1 1 1 1 2 1 0 0]\n"
     ]
    }
   ],
   "source": [
    "print (np.random.randint(0,3,10))"
   ]
  },
  {
   "cell_type": "markdown",
   "metadata": {},
   "source": [
    "Ok, now you'll write a function called `simulate_prizedoor` to do this. See the detailed spec below and add your own code to complete the task. "
   ]
  },
  {
   "cell_type": "code",
   "execution_count": 4,
   "metadata": {
    "collapsed": false
   },
   "outputs": [],
   "source": [
    "\n",
    "# Fill in key line\n",
    "def simulate_prizedoor(nsim):\n",
    "    \"\"\"\n",
    "    Function\n",
    "    --------\n",
    "    simulate_prizedoor\n",
    "\n",
    "    Generate a random array of 0s, 1s, and 2s, representing\n",
    "    hiding a prize between door 0, door 1, and door 2\n",
    "\n",
    "    Parameters\n",
    "    ----------\n",
    "    nsim : int\n",
    "        The number of simulations to run\n",
    "\n",
    "    Returns\n",
    "    -------\n",
    "    sims : array\n",
    "        Random array of 0s, 1s, and 2s\n",
    "\n",
    "    Example\n",
    "    -------\n",
    "    print simulate_prizedoor(3)\n",
    "    [0 0 2]\n",
    "\n",
    "    Note that when you print a numpy array, by default, it displays it as above.\n",
    "    If you do:\n",
    "\n",
    "    prize_doors = simulate_prizedoor(3)\n",
    "    type(prize_doors)\n",
    "\n",
    "    you'll see that prize_doors is a numpy ndarray.\n",
    "    \"\"\"\n",
    "    #compute here\n",
    "    answer = np.random.randint(0,3,nsim)\n",
    "    return answer\n",
    "\n"
   ]
  },
  {
   "cell_type": "code",
   "execution_count": 5,
   "metadata": {
    "collapsed": false
   },
   "outputs": [
    {
     "name": "stdout",
     "output_type": "stream",
     "text": [
      "[2 0 0]\n"
     ]
    }
   ],
   "source": [
    "# Now test your function\n",
    "print (simulate_prizedoor(3))"
   ]
  },
  {
   "cell_type": "markdown",
   "metadata": {},
   "source": [
    "Next, write a function that simulates the contestant's guesses for `nsim` simulations. Call this function `simulate_guess`. The specs:"
   ]
  },
  {
   "cell_type": "code",
   "execution_count": 6,
   "metadata": {
    "collapsed": false
   },
   "outputs": [],
   "source": [
    "# Fill in missing line or lines\n",
    "def simulate_guess(nsim):\n",
    "    \"\"\"\n",
    "    Function\n",
    "    --------\n",
    "    simulate_guess\n",
    "\n",
    "    Return any strategy for guessing which door a prize is behind. This\n",
    "    could be a random strategy, one that always guesses 2, whatever.\n",
    "\n",
    "    Parameters\n",
    "    ----------\n",
    "    nsim : int\n",
    "        The number of simulations to generate guesses for\n",
    "\n",
    "    Returns\n",
    "    -------\n",
    "    guesses : array\n",
    "        An array of guesses. Each guess is a 0, 1, or 2\n",
    "\n",
    "    Example\n",
    "    -------\n",
    "    # Here's output from strategy of always guessing door 0\n",
    "    print simulate_guess(5)\n",
    "    [0 0 0 0 0]\n",
    "    \"\"\"\n",
    "    #compute here\n",
    "    guess = np.random.randint(0,3,nsim)\n",
    "    return guess"
   ]
  },
  {
   "cell_type": "code",
   "execution_count": 7,
   "metadata": {
    "collapsed": false
   },
   "outputs": [
    {
     "name": "stdout",
     "output_type": "stream",
     "text": [
      "[2 0 2 0 1 2 0 0 0 1]\n",
      "<class 'numpy.ndarray'>\n"
     ]
    }
   ],
   "source": [
    "# Now test your function\n",
    "guesses = simulate_guess(10)\n",
    "print (guesses)\n",
    "print (type(guesses))"
   ]
  },
  {
   "cell_type": "markdown",
   "metadata": {},
   "source": [
    "Next, write a function, `goat_door`, to simulate randomly revealing one of the goat doors that a contestant didn't pick. This will likely take you a little more code. There are a few different cases to consider depending on where the prize is and which door the contestant picked. Certainly you can do it via \"brute force\" checking of the handful of possibilities. Here are the detailed function specs."
   ]
  },
  {
   "cell_type": "code",
   "execution_count": 8,
   "metadata": {
    "collapsed": false
   },
   "outputs": [],
   "source": [
    "\n",
    "# You fill in missing parts\n",
    "\n",
    "def goat_door(prizedoors,guesses):\n",
    "    \"\"\"\n",
    "    Function\n",
    "    --------\n",
    "    goat_door\n",
    "\n",
    "    Simulate the opening of a \"goat door\" that doesn't contain the prize,\n",
    "    and is different from the contestants guess\n",
    "\n",
    "    Parameters\n",
    "    ----------\n",
    "    prizedoors : array\n",
    "        The door that the prize is behind in each simulation\n",
    "    guesses : array\n",
    "        THe door that the contestant guessed in each simulation\n",
    "\n",
    "    Returns\n",
    "    -------\n",
    "    goats : array\n",
    "        The goat door that is opened for each simulation. Each item is 0, 1, or 2, and is different\n",
    "        from both prizedoors and guesses\n",
    "\n",
    "    Examples\n",
    "    --------\n",
    "    print goat_door(np.array([0, 1, 2]), np.array([1, 1, 1]))\n",
    "    [2 2 0]\n",
    "    \"\"\"    \n",
    "    #compute here\n",
    "    # Should find elegant way  but let's just brute force it\n",
    "    nsims = len(prizedoors)\n",
    "    goat = np.zeros(nsims, dtype=np.int)\n",
    "    for i in range(nsims):\n",
    "        if prizedoors[i] == 0:\n",
    "            if guesses[i] == 1:\n",
    "                goat[i] = 2\n",
    "            elif guesses[i] == 2:\n",
    "                goat[i] = 1\n",
    "            else:\n",
    "                goat[i] = np.random.choice([1,2])\n",
    "        \n",
    "        if prizedoors[i] == 1:\n",
    "            if guesses[i] == 0:\n",
    "                goat[i] = 2\n",
    "            elif guesses[i] == 2:\n",
    "                goat[i] = 0\n",
    "            else :\n",
    "                goat[i] = np.random.choice([0,2])\n",
    "        \n",
    "        if prizedoors[i] == 2:\n",
    "            if guesses[i] == 0:\n",
    "                goat[i] = 1\n",
    "            elif guesses[i] == 1:\n",
    "                goat[i] = 0\n",
    "            else:\n",
    "                goat[i] = np.random.choice([0,1])\n",
    "        \n",
    "    return goat\n"
   ]
  },
  {
   "cell_type": "markdown",
   "metadata": {},
   "source": [
    "**Hacker Extra** Now certainly there are shorter, more \"Pythonic\" ways of implementing the `goat_door` function. Push yourself to find one. Here's a skeleton of my alternative approach (with a key part left out). Hint: Learn about *list comprehensions* (e.g. see p418 in Python for Data Analysis book or just Google).\n",
    "\n",
    "    def goat_door2(prizedoors,guesses):\n",
    "    \n",
    "        # Here's a shorter way\n",
    "        nsims = ???\n",
    "        goat = np.zeros(nsims, dtype=np.int)\n",
    "        for i in range(nsims):\n",
    "            possible_goats = ??? This is the key line ???\n",
    "            goat[i] = np.random.choice(possible_goats)\n",
    "        return goat"
   ]
  },
  {
   "cell_type": "code",
   "execution_count": 9,
   "metadata": {
    "collapsed": false
   },
   "outputs": [],
   "source": [
    "# Make this work\n",
    "def goat_door2(prizedoors,guesses):\n",
    "\n",
    "    # Here's a shorter way\n",
    "    nsims = len(prizedoors)\n",
    "    goat = np.zeros(nsims, dtype=np.int)\n",
    "    for i in range(nsims):\n",
    "        possible_goats = np.setdiff1d([0,1,2],[guesses[i],prizedoors[i]])\n",
    "        goat[i] = np.random.choice(possible_goats)\n",
    "    return goat"
   ]
  },
  {
   "cell_type": "markdown",
   "metadata": {},
   "source": [
    "Now, clearly we need to test if all of our functions are working correctly."
   ]
  },
  {
   "cell_type": "code",
   "execution_count": 10,
   "metadata": {
    "collapsed": false
   },
   "outputs": [
    {
     "name": "stdout",
     "output_type": "stream",
     "text": [
      "[2 1 1 1 2 1 1 2 2 2]\n",
      "[1 2 1 2 2 0 2 0 2 1]\n",
      "[0 0 0 0 1 2 0 1 1 0]\n",
      "[0 0 0 0 1 2 0 1 1 0]\n"
     ]
    }
   ],
   "source": [
    "prizes = simulate_prizedoor(10)\n",
    "guesses = simulate_guess(10)\n",
    "goats = goat_door(prizes,guesses)\n",
    "goats2 = goat_door2(prizes,guesses)\n",
    "print (prizes)\n",
    "print (guesses)\n",
    "print (goats)\n",
    "print (goats2)"
   ]
  },
  {
   "cell_type": "markdown",
   "metadata": {},
   "source": [
    "Write a function, `switch_guess`, that represents the strategy of always switching a guess after the goat door is opened."
   ]
  },
  {
   "cell_type": "code",
   "execution_count": 11,
   "metadata": {
    "collapsed": false
   },
   "outputs": [],
   "source": [
    "#your code here\n",
    "def switch_guess(guesses, goatdoors):\n",
    "    \"\"\"\n",
    "    Function\n",
    "    --------\n",
    "    switch_guess\n",
    "\n",
    "    The strategy that always switches a guess after the goat door is opened\n",
    "\n",
    "    Parameters\n",
    "    ----------\n",
    "    guesses : array\n",
    "         Array of original guesses, for each simulation\n",
    "    goatdoors : array\n",
    "         Array of revealed goat doors for each simulation\n",
    "\n",
    "    Returns\n",
    "    -------\n",
    "    The new door after switching. Should be different from both guesses and goatdoors\n",
    "\n",
    "    Examples\n",
    "    --------\n",
    "    >>> print switch_guess(np.array([0, 1, 2]), np.array([1, 2, 1]))\n",
    "    >>> array([2, 0, 0])\n",
    "    \"\"\"  \n",
    "    nsims = len(goatdoors)\n",
    "    choice = np.zeros(nsims, dtype=np.int)\n",
    "    for i in range(nsims):\n",
    "        choice[i] = np.random.choice(np.setdiff1d([0,1,2],[guesses[i],goatdoors[i]]))\n",
    "    \n",
    "    return choice"
   ]
  },
  {
   "cell_type": "code",
   "execution_count": 12,
   "metadata": {
    "collapsed": false
   },
   "outputs": [
    {
     "name": "stdout",
     "output_type": "stream",
     "text": [
      "Prizes:\t\t [2 1 1 1 2 1 1 2 2 2]\n",
      "Guesses:\t [1 2 1 2 2 0 2 0 2 1]\n",
      "Goats:\t\t [0 0 0 0 1 2 0 1 1 0]\n",
      "Final choice:\t [2 1 2 1 0 1 1 2 0 2]\n"
     ]
    }
   ],
   "source": [
    "final_choice = switch_guess(guesses,goats)\n",
    "\n",
    "print (\"Prizes:\\t\\t\", prizes)\n",
    "print (\"Guesses:\\t\", guesses)\n",
    "print (\"Goats:\\t\\t\", goats)\n",
    "print (\"Final choice:\\t\", final_choice)"
   ]
  },
  {
   "cell_type": "markdown",
   "metadata": {},
   "source": [
    "Last function: write a `win_percentage` function that takes an array of `guesses` and `prizedoors`, and returns the percent of correct guesses."
   ]
  },
  {
   "cell_type": "code",
   "execution_count": 13,
   "metadata": {
    "collapsed": false
   },
   "outputs": [],
   "source": [
    "def win_percentage(guesses, prizedoors):\n",
    "    \"\"\"\n",
    "    Function\n",
    "    --------\n",
    "    win_percentage\n",
    "\n",
    "    Calculate the percent of times that a simulation of guesses is correct\n",
    "\n",
    "    Parameters\n",
    "    -----------\n",
    "    guesses : array\n",
    "        Guesses for each simulation\n",
    "    prizedoors : array\n",
    "        Location of prize for each simulation\n",
    "\n",
    "    Returns\n",
    "    --------\n",
    "    percentage : number between 0 and 100\n",
    "        The win percentage\n",
    "\n",
    "    Examples\n",
    "    ---------\n",
    "    >>> print win_percentage(np.array([0, 1, 2]), np.array([0, 0, 0]))\n",
    "    33.333\n",
    "    \"\"\"\n",
    "            \n",
    "    return 100 * (guesses == prizedoors).mean()\n"
   ]
  },
  {
   "cell_type": "code",
   "execution_count": 14,
   "metadata": {
    "collapsed": false
   },
   "outputs": [
    {
     "name": "stdout",
     "output_type": "stream",
     "text": [
      "70.0\n"
     ]
    }
   ],
   "source": [
    "print (win_percentage(final_choice, prizes))"
   ]
  },
  {
   "cell_type": "markdown",
   "metadata": {},
   "source": [
    "Now, put it together. Simulate 10000 games where contestant keeps his original guess, and 10000 games where the contestant switches his door after a  goat door is revealed. Compute the percentage of time the contestant wins under either strategy. Is one strategy better than the other?"
   ]
  },
  {
   "cell_type": "code",
   "execution_count": 15,
   "metadata": {
    "collapsed": false
   },
   "outputs": [],
   "source": [
    "\n",
    "def switch_vs_stay(nsim):\n",
    "    \"\"\"\n",
    "    Function\n",
    "    --------\n",
    "    switch_vs_stay\n",
    "\n",
    "    Calculate the percent of times that the switching strategy wins and pct\n",
    "    of time that the stay strategy (don't switch) wins\n",
    "\n",
    "    Parameters\n",
    "    -----------\n",
    "    nsim : int\n",
    "        Number of simulations\n",
    "\n",
    "\n",
    "    Returns\n",
    "    --------\n",
    "    wint_pct : List containing the two win percentages\n",
    "        The win percentage for switch and for not switch\n",
    "\n",
    "    Examples\n",
    "    ---------\n",
    "    print switch_vs_stay(1000)\n",
    "    [66.2, 33.8]\n",
    "    \"\"\"    \n",
    "    N = 10000\n",
    "\n",
    "    prizes = simulate_prizedoor(N)\n",
    "    guesses = simulate_guess(N)\n",
    "    goats = goat_door2(prizes,guesses)\n",
    "    final_choice = switch_guess(guesses,goats)\n",
    "    \n",
    "    \n",
    "    winpct_switch = win_percentage(final_choice,prizes)\n",
    "    winpct_stay =  win_percentage(guesses, prizes)\n",
    "    \n",
    "    return [winpct_switch, winpct_stay]"
   ]
  },
  {
   "cell_type": "code",
   "execution_count": 16,
   "metadata": {
    "collapsed": false
   },
   "outputs": [],
   "source": [
    "results = switch_vs_stay(10000)"
   ]
  },
  {
   "cell_type": "code",
   "execution_count": 17,
   "metadata": {
    "collapsed": false
   },
   "outputs": [
    {
     "name": "stdout",
     "output_type": "stream",
     "text": [
      "[66.759999999999991, 33.239999999999995]\n"
     ]
    }
   ],
   "source": [
    "print (results)"
   ]
  }
 ],
 "metadata": {
  "anaconda-cloud": {},
  "kernelspec": {
   "display_name": "Python 3",
   "language": "python",
   "name": "python3"
  },
  "language_info": {
   "codemirror_mode": {
    "name": "ipython",
    "version": 3
   },
   "file_extension": ".py",
   "mimetype": "text/x-python",
   "name": "python",
   "nbconvert_exporter": "python",
   "pygments_lexer": "ipython3",
   "version": "3.6.2"
  }
 },
 "nbformat": 4,
 "nbformat_minor": 0
}
